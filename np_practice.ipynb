{
 "cells": [
  {
   "attachments": {},
   "cell_type": "markdown",
   "metadata": {},
   "source": [
    "### Counting the number of unique values in each row of a numpy array"
   ]
  },
  {
   "cell_type": "code",
   "execution_count": 14,
   "metadata": {},
   "outputs": [
    {
     "name": "stdout",
     "output_type": "stream",
     "text": [
      "None\n",
      "[[8 8 6 2 8 7 2 1 5 4 4 5]\n",
      " [7 3 6 4 3 7 6 1 3 5 8 4]\n",
      " [6 3 9 2 0 4 2 4 1 7 8 2]\n",
      " [9 8 7 1 6 8 5 9 9 9 3 0]\n",
      " [0 2 8 8 2 9 6 5 6 6 6 3]\n",
      " [8 2 1 4 8 1 6 9 5 1 2 4]\n",
      " [7 6 4 5 8 3 0 0 5 7 5 0]\n",
      " [8 6 5 1 7 4 3 6 1 4 0 8]\n",
      " [5 4 2 9 7 1 9 2 1 0 7 1]]\n",
      "There are 7 unique items in row 0\n",
      "There are 7 unique items in row 1\n",
      "There are 9 unique items in row 2\n",
      "There are 8 unique items in row 3\n",
      "There are 7 unique items in row 4\n",
      "There are 7 unique items in row 5\n",
      "There are 7 unique items in row 6\n",
      "There are 8 unique items in row 7\n",
      "There are 7 unique items in row 8\n"
     ]
    }
   ],
   "source": [
    "import numpy as np\n",
    "\n",
    "arr1 = np.random.seed(2)\n",
    "arr = np.random.randint(0,10,size=(9,12))\n",
    "\n",
    "print(arr1)\n",
    "print(arr)\n",
    "\n",
    "for i in range(9):\n",
    "    unique = len(set(arr[i]))\n",
    "    print(\"There are %d unique items in row %d\" % (unique, i))\n"
   ]
  },
  {
   "attachments": {},
   "cell_type": "markdown",
   "metadata": {},
   "source": [
    "### Checkerboard arrays\n",
    "\n",
    "- Create a numpy array of dimension (20, 20) and fill it with a checkerboard pattern of 1's and 0's\n",
    "- Can you do the same for a 3D array of dimension (20, 20, 20)\n",
    "- What about an array of dimension (20, 40, 10)"
   ]
  },
  {
   "cell_type": "code",
   "execution_count": 22,
   "metadata": {},
   "outputs": [
    {
     "name": "stdout",
     "output_type": "stream",
     "text": [
      "[[0 1 0 1 0 1 0 1 0 1 0 1 0 1 0 1 0 1 0 1]\n",
      " [1 0 1 0 1 0 1 0 1 0 1 0 1 0 1 0 1 0 1 0]\n",
      " [0 1 0 1 0 1 0 1 0 1 0 1 0 1 0 1 0 1 0 1]\n",
      " [1 0 1 0 1 0 1 0 1 0 1 0 1 0 1 0 1 0 1 0]\n",
      " [0 1 0 1 0 1 0 1 0 1 0 1 0 1 0 1 0 1 0 1]\n",
      " [1 0 1 0 1 0 1 0 1 0 1 0 1 0 1 0 1 0 1 0]\n",
      " [0 1 0 1 0 1 0 1 0 1 0 1 0 1 0 1 0 1 0 1]\n",
      " [1 0 1 0 1 0 1 0 1 0 1 0 1 0 1 0 1 0 1 0]\n",
      " [0 1 0 1 0 1 0 1 0 1 0 1 0 1 0 1 0 1 0 1]\n",
      " [1 0 1 0 1 0 1 0 1 0 1 0 1 0 1 0 1 0 1 0]\n",
      " [0 1 0 1 0 1 0 1 0 1 0 1 0 1 0 1 0 1 0 1]\n",
      " [1 0 1 0 1 0 1 0 1 0 1 0 1 0 1 0 1 0 1 0]\n",
      " [0 1 0 1 0 1 0 1 0 1 0 1 0 1 0 1 0 1 0 1]\n",
      " [1 0 1 0 1 0 1 0 1 0 1 0 1 0 1 0 1 0 1 0]\n",
      " [0 1 0 1 0 1 0 1 0 1 0 1 0 1 0 1 0 1 0 1]\n",
      " [1 0 1 0 1 0 1 0 1 0 1 0 1 0 1 0 1 0 1 0]\n",
      " [0 1 0 1 0 1 0 1 0 1 0 1 0 1 0 1 0 1 0 1]\n",
      " [1 0 1 0 1 0 1 0 1 0 1 0 1 0 1 0 1 0 1 0]\n",
      " [0 1 0 1 0 1 0 1 0 1 0 1 0 1 0 1 0 1 0 1]\n",
      " [1 0 1 0 1 0 1 0 1 0 1 0 1 0 1 0 1 0 1 0]]\n"
     ]
    }
   ],
   "source": [
    "zero_one = ([0,1])\n",
    "checkerboard = np.resize(zero_one, (20))\n",
    "print(np.abs(checkerboard - np.array([checkerboard]).T))"
   ]
  },
  {
   "attachments": {},
   "cell_type": "markdown",
   "metadata": {},
   "source": [
    "### Broadcasting\n",
    "\n",
    "- Create a random matrix of binary values (0, 1)\n",
    "- Create a vector with as many rows as the matrix containing random positive integers between 1 and 5\n",
    "- Add the vector to every column using broadcasting\n",
    "- Create a new matrix by multiplying the columns of the original by the vector\n",
    "- Create a new matrix by multiplying every element by a scalar value"
   ]
  },
  {
   "cell_type": "code",
   "execution_count": 53,
   "metadata": {},
   "outputs": [
    {
     "data": {
      "text/plain": [
       "array([[15,  0,  0,  0, 15,  0, 15, 15, 15,  0],\n",
       "       [ 0,  0,  9,  0,  0,  9,  0,  9,  0,  0],\n",
       "       [15, 15, 15,  0,  0, 15,  0,  0, 15, 15],\n",
       "       [ 0,  0,  9,  9,  9,  9,  9,  9,  9,  0],\n",
       "       [ 0,  9,  9,  9,  0,  0,  9,  9,  9,  0],\n",
       "       [ 0,  0,  0, 15,  0, 15,  0, 15,  0, 15],\n",
       "       [ 9,  0,  0,  0,  0,  0,  9,  0,  9,  9],\n",
       "       [ 3,  3,  0,  3,  0,  0,  0,  3,  3,  3],\n",
       "       [ 0,  0,  0,  9,  0,  0,  9,  0,  0,  9],\n",
       "       [ 0,  3,  0,  0,  0,  3,  0,  3,  3,  0]], dtype=int64)"
      ]
     },
     "execution_count": 53,
     "metadata": {},
     "output_type": "execute_result"
    }
   ],
   "source": [
    "binary_m = np.random.randint(0, 2, size = (10,10), dtype = 'int64')\n",
    "rand_m = np.random.randint(1, 6, size = (10,1), dtype = 'int64')\n",
    "\n",
    "binary_m + rand_m\n",
    "mult_m = binary_m * rand_m\n",
    "mult_m * 3\n"
   ]
  },
  {
   "attachments": {},
   "cell_type": "markdown",
   "metadata": {},
   "source": [
    "### Fancy Indexing\n",
    "\n",
    "- Look at the numpy docs to explore all the ways which you can use numpy to generate tensors/matrices/arrays of random numbers\n",
    "- Create a matrix of random numbers with 4 rows and 6 columns\n",
    "- Index the element on the 3rd row, 2nd col\n",
    "- Index all of the even rows\n",
    "- Index all of the elements on even rows and odd columns\n",
    "- Index the elements along the diagonal"
   ]
  },
  {
   "cell_type": "code",
   "execution_count": 83,
   "metadata": {},
   "outputs": [
    {
     "name": "stdout",
     "output_type": "stream",
     "text": [
      "[ 0.64125771  1.37630666  0.42428209 -0.44531792  0.84724506  0.84932209]\n",
      "[-0.6742687  -2.30813991  1.05826214 -0.06561174  0.30397088 -0.10143653]\n"
     ]
    },
    {
     "ename": "ValueError",
     "evalue": "too many values to unpack (expected 2)",
     "output_type": "error",
     "traceback": [
      "\u001b[1;31m---------------------------------------------------------------------------\u001b[0m",
      "\u001b[1;31mValueError\u001b[0m                                Traceback (most recent call last)",
      "Cell \u001b[1;32mIn [83], line 10\u001b[0m\n\u001b[0;32m      7\u001b[0m     \u001b[39mif\u001b[39;00m i \u001b[39m%\u001b[39m \u001b[39m2\u001b[39m \u001b[39m==\u001b[39m \u001b[39m1\u001b[39m:\n\u001b[0;32m      8\u001b[0m         \u001b[39mprint\u001b[39m(random_m[i])\n\u001b[1;32m---> 10\u001b[0m \u001b[39mfor\u001b[39;00m i, j \u001b[39min\u001b[39;00m \u001b[39mrange\u001b[39m(\u001b[39m0\u001b[39m, n_rows), \u001b[39mrange\u001b[39m(\u001b[39m0\u001b[39m, n_columns):\n\u001b[0;32m     11\u001b[0m     \u001b[39mif\u001b[39;00m i \u001b[39m%\u001b[39m \u001b[39m2\u001b[39m \u001b[39m==\u001b[39m \u001b[39m1\u001b[39m \u001b[39mand\u001b[39;00m j \u001b[39m%\u001b[39m \u001b[39m2\u001b[39m \u001b[39m==\u001b[39m \u001b[39m0\u001b[39m:\n\u001b[0;32m     12\u001b[0m         \u001b[39mprint\u001b[39m(random_m[i,j])\n",
      "\u001b[1;31mValueError\u001b[0m: too many values to unpack (expected 2)"
     ]
    }
   ],
   "source": [
    "random_m = np.random.randn(4,6)\n",
    "random_m[3,4]\n",
    "\n",
    "n_rows, n_columns = np.shape(random_m)\n",
    "\n",
    "for i in range(0, n_rows):\n",
    "    if i % 2 == 1:\n",
    "        print(random_m[i])\n",
    "\n",
    "for i, j in range(0, n_rows), range(0, n_columns):\n",
    "    if i % 2 == 1 and j % 2 == 0:\n",
    "        print(random_m[i,j])"
   ]
  },
  {
   "cell_type": "code",
   "execution_count": null,
   "metadata": {},
   "outputs": [],
   "source": []
  }
 ],
 "metadata": {
  "kernelspec": {
   "display_name": "base",
   "language": "python",
   "name": "python3"
  },
  "language_info": {
   "codemirror_mode": {
    "name": "ipython",
    "version": 3
   },
   "file_extension": ".py",
   "mimetype": "text/x-python",
   "name": "python",
   "nbconvert_exporter": "python",
   "pygments_lexer": "ipython3",
   "version": "3.9.15"
  },
  "orig_nbformat": 4,
  "vscode": {
   "interpreter": {
    "hash": "d05b656f7f5de332698685c06c8652de771a88d8c01239d7c92e9af3a12fc536"
   }
  }
 },
 "nbformat": 4,
 "nbformat_minor": 2
}
